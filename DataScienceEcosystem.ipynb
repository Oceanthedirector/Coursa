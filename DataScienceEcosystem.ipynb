{
 "cells": [
  {
   "cell_type": "markdown",
   "id": "47693594-70b0-47d2-8fbc-93e24e27ae4b",
   "metadata": {},
   "source": [
    "# Data Science Tools and Ecosystem\n"
   ]
  },
  {
   "cell_type": "markdown",
   "id": "778bdc1f-8d0d-4778-b4ea-64ef8e7ebd59",
   "metadata": {},
   "source": [
    "     In this notebook, Data Science Tools and Ecosystem are summarized.\n",
    "\n",
    " "
   ]
  },
  {
   "cell_type": "markdown",
   "id": "45fbde11-6a57-4477-9612-6b7308f3def9",
   "metadata": {},
   "source": [
    "Some of the popular languages that Data Scientists use are:"
   ]
  },
  {
   "cell_type": "markdown",
   "id": "29cfe0fb-ad5c-4629-bb9e-e274b363dc58",
   "metadata": {},
   "source": [
    "Some of the popular languages that Data Scientists use are:\n",
    "1. Python\n",
    "2. Java\n",
    "3. C++\n",
    "4. C   \n"
   ]
  },
  {
   "cell_type": "markdown",
   "id": "61fef01e-c7fc-4f38-9387-65058f14436f",
   "metadata": {},
   "source": [
    "Some of the commonly used libraries used by Data Scientists include:\n",
    "1. NumPy\n",
    "2. Pandas\n",
    "3. Matplotlib\n"
   ]
  },
  {
   "cell_type": "markdown",
   "id": "82b27eb9-ab59-400a-897b-acf33f653eb2",
   "metadata": {},
   "source": [
    "\n",
    "\n",
    "```\n",
    "|Data Science Tools|\n",
    "| TensorFlow|\n",
    "| Apache Spark|\n",
    "|SQL|  \n",
    "\n",
    "\n",
    "    \n",
    "```"
   ]
  },
  {
   "cell_type": "markdown",
   "id": "48ae7154-a44a-4bf4-9671-caa21a8ee027",
   "metadata": {},
   "source": [
    "###Below are a few examples of evaluating arithmetic expressions in Python"
   ]
  },
  {
   "cell_type": "code",
   "execution_count": 12,
   "id": "79b46776-df42-4562-86f4-81b2e70bf321",
   "metadata": {},
   "outputs": [
    {
     "name": "stdout",
     "output_type": "stream",
     "text": [
      "Result: 17\n"
     ]
    }
   ],
   "source": [
    "#This a simple arithmetic expression to mutiply then add integers.\n",
    "\n",
    "num1 = 3\n",
    "num2 = 4\n",
    "num3 = 5\n",
    "result = (num1 * num2) + num3\n",
    "print(\"Result:\", result)"
   ]
  },
  {
   "cell_type": "code",
   "execution_count": 30,
   "id": "e190435f-474a-482d-b702-2311d821f52b",
   "metadata": {},
   "outputs": [
    {
     "name": "stdin",
     "output_type": "stream",
     "text": [
      " 200\n"
     ]
    },
    {
     "name": "stdout",
     "output_type": "stream",
     "text": [
      "200.0 minutes is equal to 3.3333333333333335 hours\n"
     ]
    }
   ],
   "source": [
    "#This will convert 200 minutes to hours by diving by 60 \n",
    "def minutes_to_hours(minutes):\n",
    "    hours = minutes / 60\n",
    "    return hours\n",
    "\n",
    "minutes = float(input())\n",
    "hours = minutes_to_hours(minutes)\n",
    "print(f\"{minutes} minutes is equal to {hours} hours\")"
   ]
  },
  {
   "cell_type": "code",
   "execution_count": null,
   "id": "3e95b5ba-83c6-4c58-83b3-a5623ec804ed",
   "metadata": {},
   "outputs": [],
   "source": []
  },
  {
   "cell_type": "markdown",
   "id": "7c16d3b7-09d4-4d6f-b4db-cbd695b5e272",
   "metadata": {},
   "source": [
    "## Objectives\n",
    "\n",
    "List popular languages for Data Science\n",
    "- Java\n",
    "- C++\n",
    "- Python\n",
    "- C\n",
    "- SQL\n"
   ]
  },
  {
   "cell_type": "markdown",
   "id": "dd2f3846-46f0-4a88-9b4c-f5619da13a1a",
   "metadata": {},
   "source": [
    "## Author\n",
    "Damani Powell\n"
   ]
  },
  {
   "cell_type": "code",
   "execution_count": null,
   "id": "d556d2eb-810c-4b18-95bd-1e0924db8d9c",
   "metadata": {},
   "outputs": [],
   "source": []
  }
 ],
 "metadata": {
  "kernelspec": {
   "display_name": "Python 3 (ipykernel)",
   "language": "python",
   "name": "python3"
  },
  "language_info": {
   "codemirror_mode": {
    "name": "ipython",
    "version": 3
   },
   "file_extension": ".py",
   "mimetype": "text/x-python",
   "name": "python",
   "nbconvert_exporter": "python",
   "pygments_lexer": "ipython3",
   "version": "3.12.8"
  }
 },
 "nbformat": 4,
 "nbformat_minor": 5
}
